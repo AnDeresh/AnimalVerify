{
 "cells": [
  {
   "cell_type": "markdown",
   "metadata": {},
   "source": [
    "# Demo Pipeline\n",
    "\n",
    "- This notebook demonstrates how to use the animal recognition pipeline.\n",
    "- Also set up an evaluation dataset folder and a JSON file with test data."
   ]
  },
  {
   "cell_type": "code",
   "execution_count": null,
   "metadata": {},
   "outputs": [],
   "source": [
    "import os, sys\n",
    "import json\n",
    "from pathlib import Path\n",
    "\n",
    "project_root = Path.cwd().parent.parent\n",
    "sys.path.insert(0, str(project_root))\n",
    "\n",
    "from pipeline.src.pipeline import run_pipeline\n",
    "from pipeline.src.config import EVALUATION_DATASET_DIR"
   ]
  },
  {
   "cell_type": "code",
   "execution_count": 2,
   "metadata": {},
   "outputs": [],
   "source": [
    "# Define test cases with text descriptions\n",
    "evaluation_data = [\n",
    "    {\"text\": \"I saw a dog in the park.\", \"image\": \"dog_jpeg\", \"expected\": True},\n",
    "    {\"text\": \"A butterfly is on the flower.\", \"image\": \"butterfly_jpg\", \"expected\": False},\n",
    "    {\"text\": \"A cat is sleeping on the couch.\", \"image\": \"dog_jpeg\", \"expected\": False},\n",
    "    {\"text\": \"An elephant and a horse are walking together.\", \"image\": \"horse_jpeg\", \"expected\": True},\n",
    "    {\"text\": \"A spider is in the corner.\", \"image\": \"bird_jpg\", \"expected\": False}\n",
    "]"
   ]
  },
  {
   "cell_type": "code",
   "execution_count": 3,
   "metadata": {},
   "outputs": [],
   "source": [
    "# Save test cases in a JSON file\n",
    "json_path = os.path.join(EVALUATION_DATASET_DIR, \"evaluation_data.json\")\n",
    "with open(json_path, \"w\", encoding=\"utf-8\") as f:\n",
    "    json.dump(evaluation_data, f, indent=4)"
   ]
  },
  {
   "cell_type": "code",
   "execution_count": null,
   "metadata": {},
   "outputs": [],
   "source": [
    "print(f\"Evaluation dataset structure created at: {EVALUATION_DATASET_DIR}\")\n",
    "print(f\"JSON metadata saved at: {json_path}\")"
   ]
  },
  {
   "cell_type": "markdown",
   "metadata": {},
   "source": [
    "You can modify the text input and image path as needed to test the pipeline interactively."
   ]
  },
  {
   "cell_type": "code",
   "execution_count": null,
   "metadata": {},
   "outputs": [],
   "source": [
    "# Example text and image path\n",
    "text_input = \"There is a cat sitting on the sofa.\"\n",
    "image_path = \"..\\evaluation_dataset\\evaluation_images\\cat.jpg\""
   ]
  },
  {
   "cell_type": "code",
   "execution_count": 6,
   "metadata": {},
   "outputs": [
    {
     "name": "stdout",
     "output_type": "stream",
     "text": [
      "Extracted animal entities: ['cat']\n",
      "Predicted animal from image: cat\n",
      "Pipeline result: True\n"
     ]
    }
   ],
   "source": [
    "# Run the pipeline\n",
    "try:\n",
    "    result = run_pipeline(text_input, image_path)\n",
    "    print(f\"Pipeline result: {result}\")\n",
    "except FileNotFoundError as e:\n",
    "    print(e)\n",
    "    print(\"Make sure you have an actual image at the specified path.\")"
   ]
  },
  {
   "cell_type": "markdown",
   "metadata": {},
   "source": [
    "### Edge Cases\n",
    "\n",
    "- **Multiple Animals in One Image**:  \n",
    "  When an image contains more than one animal, the classifier might predict a dominant animal class. The pipeline then checks if that predicted class is mentioned in the text, even if the text describes multiple animals.\n",
    "\n",
    "- **Multiple Animal Entities in Text**:  \n",
    "  The input text might mention several animals (e.g., \"A cat and a dog are playing in the park.\"). In this case, the pipeline compares the image prediction with all extracted entities to determine if there is any match.\n",
    "\n",
    "- **Ambiguous or Incomplete Text**:  \n",
    "  The text might be vague or incomplete (e.g., \"I saw something in the field.\"). The pipeline needs to handle such cases gracefully by possibly returning a negative result when no recognizable animal entity is extracted.\n",
    "\n",
    "- **Image with No Clear Animal**:  \n",
    "  If the image does not clearly depict any animal, the classifier might predict an incorrect class or a low-confidence prediction. The pipeline should handle this scenario, perhaps by flagging the result as unreliable.\n",
    "\n",
    "- **Mismatch in Case of Multiple Detections**:  \n",
    "  When the classifier predicts one animal but the text contains multiple entities, none of which match the prediction, the pipeline should clearly indicate the inconsistency."
   ]
  }
 ],
 "metadata": {
  "kernelspec": {
   "display_name": "animal_project_env_gpu",
   "language": "python",
   "name": "python3"
  },
  "language_info": {
   "codemirror_mode": {
    "name": "ipython",
    "version": 3
   },
   "file_extension": ".py",
   "mimetype": "text/x-python",
   "name": "python",
   "nbconvert_exporter": "python",
   "pygments_lexer": "ipython3",
   "version": "3.13.2"
  }
 },
 "nbformat": 4,
 "nbformat_minor": 2
}
